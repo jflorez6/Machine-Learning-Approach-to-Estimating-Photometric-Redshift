{
 "cells": [
  {
   "cell_type": "markdown",
   "metadata": {},
   "source": [
    "# Machine Learning Approach to Estimating Photometric Redshifts"
   ]
  },
  {
   "cell_type": "markdown",
   "metadata": {},
   "source": [
    "In this notebook I load and train a data set of ~8,000 galaxies in order to estimate photometric redshifts using a machine learning approach. Photometric redshifts for galaxies are typically estimated through spectral energy distribution (SED) fitting methods (see http://sedfitting.org/Welcome.html) and yield far poorer quality redshifts than those obtained from spectroscopy, however, they are often necessary for large surveys as obtaining spectroscopic redshifts can be time-consuming and computationally expensive. The goal of this project is to improve photometric redshift estimates over those yielded from current SED fitting methods implemented by codes such as EAZY-py (see [Brammer et al. 2008](https://ui.adsabs.harvard.edu/abs/2008ApJ...686.1503B/abstract)).\n",
    "\n",
    "All data in this notebook are taken from the NEWFIRM K-selected SHELA catalog (see [Stevans et al. 2020](https://ui.adsabs.harvard.edu/abs/2021arXiv210314690S/abstract))."
   ]
  },
  {
   "cell_type": "code",
   "execution_count": 1,
   "metadata": {},
   "outputs": [
    {
     "data": {
      "text/html": [
       "<div>\n",
       "<style scoped>\n",
       "    .dataframe tbody tr th:only-of-type {\n",
       "        vertical-align: middle;\n",
       "    }\n",
       "\n",
       "    .dataframe tbody tr th {\n",
       "        vertical-align: top;\n",
       "    }\n",
       "\n",
       "    .dataframe thead th {\n",
       "        text-align: right;\n",
       "    }\n",
       "</style>\n",
       "<table border=\"1\" class=\"dataframe\">\n",
       "  <thead>\n",
       "    <tr style=\"text-align: right;\">\n",
       "      <th></th>\n",
       "      <th>Unnamed: 0</th>\n",
       "      <th>ID</th>\n",
       "      <th>specz</th>\n",
       "      <th>u_flux</th>\n",
       "      <th>u_err</th>\n",
       "      <th>g_flux</th>\n",
       "      <th>g_err</th>\n",
       "      <th>r_flux</th>\n",
       "      <th>r_err</th>\n",
       "      <th>i_flux</th>\n",
       "      <th>...</th>\n",
       "      <th>JUV_flux</th>\n",
       "      <th>JUV_err</th>\n",
       "      <th>KUV_flux</th>\n",
       "      <th>KUV_err</th>\n",
       "      <th>K_flux</th>\n",
       "      <th>K_err</th>\n",
       "      <th>ch1_flux</th>\n",
       "      <th>ch1_err</th>\n",
       "      <th>ch2_flux</th>\n",
       "      <th>ch2_err</th>\n",
       "    </tr>\n",
       "  </thead>\n",
       "  <tbody>\n",
       "    <tr>\n",
       "      <td>0</td>\n",
       "      <td>0</td>\n",
       "      <td>23351</td>\n",
       "      <td>2.760316</td>\n",
       "      <td>0.014086</td>\n",
       "      <td>0.000955</td>\n",
       "      <td>0.027036</td>\n",
       "      <td>0.001719</td>\n",
       "      <td>0.038791</td>\n",
       "      <td>0.001342</td>\n",
       "      <td>0.038834</td>\n",
       "      <td>...</td>\n",
       "      <td>0.046001</td>\n",
       "      <td>0.004392</td>\n",
       "      <td>0.047536</td>\n",
       "      <td>0.004399</td>\n",
       "      <td>0.037667</td>\n",
       "      <td>0.002026</td>\n",
       "      <td>0.066798</td>\n",
       "      <td>0.003613</td>\n",
       "      <td>0.097507</td>\n",
       "      <td>0.005337</td>\n",
       "    </tr>\n",
       "    <tr>\n",
       "      <td>1</td>\n",
       "      <td>1</td>\n",
       "      <td>20537</td>\n",
       "      <td>2.747530</td>\n",
       "      <td>0.037558</td>\n",
       "      <td>0.001232</td>\n",
       "      <td>0.053658</td>\n",
       "      <td>0.001746</td>\n",
       "      <td>0.067047</td>\n",
       "      <td>0.002196</td>\n",
       "      <td>0.067760</td>\n",
       "      <td>...</td>\n",
       "      <td>0.082113</td>\n",
       "      <td>0.004346</td>\n",
       "      <td>0.070553</td>\n",
       "      <td>0.004394</td>\n",
       "      <td>0.076923</td>\n",
       "      <td>0.000982</td>\n",
       "      <td>0.087584</td>\n",
       "      <td>0.004526</td>\n",
       "      <td>0.131902</td>\n",
       "      <td>0.006359</td>\n",
       "    </tr>\n",
       "    <tr>\n",
       "      <td>2</td>\n",
       "      <td>2</td>\n",
       "      <td>2293</td>\n",
       "      <td>2.154657</td>\n",
       "      <td>0.122013</td>\n",
       "      <td>0.003937</td>\n",
       "      <td>0.111283</td>\n",
       "      <td>0.003596</td>\n",
       "      <td>0.119048</td>\n",
       "      <td>0.003853</td>\n",
       "      <td>0.127056</td>\n",
       "      <td>...</td>\n",
       "      <td>0.099441</td>\n",
       "      <td>0.004249</td>\n",
       "      <td>0.131890</td>\n",
       "      <td>0.004045</td>\n",
       "      <td>0.141504</td>\n",
       "      <td>0.001254</td>\n",
       "      <td>0.152524</td>\n",
       "      <td>0.007173</td>\n",
       "      <td>0.225258</td>\n",
       "      <td>0.010495</td>\n",
       "    </tr>\n",
       "    <tr>\n",
       "      <td>3</td>\n",
       "      <td>3</td>\n",
       "      <td>5133</td>\n",
       "      <td>1.870031</td>\n",
       "      <td>0.001211</td>\n",
       "      <td>0.000133</td>\n",
       "      <td>0.002087</td>\n",
       "      <td>0.000096</td>\n",
       "      <td>0.003256</td>\n",
       "      <td>0.000279</td>\n",
       "      <td>0.005732</td>\n",
       "      <td>...</td>\n",
       "      <td>0.010719</td>\n",
       "      <td>0.003264</td>\n",
       "      <td>0.019743</td>\n",
       "      <td>0.003876</td>\n",
       "      <td>0.021568</td>\n",
       "      <td>0.000898</td>\n",
       "      <td>0.039198</td>\n",
       "      <td>0.002013</td>\n",
       "      <td>0.055351</td>\n",
       "      <td>0.002972</td>\n",
       "    </tr>\n",
       "    <tr>\n",
       "      <td>4</td>\n",
       "      <td>4</td>\n",
       "      <td>25545</td>\n",
       "      <td>0.561281</td>\n",
       "      <td>0.002869</td>\n",
       "      <td>0.000171</td>\n",
       "      <td>0.005627</td>\n",
       "      <td>0.000319</td>\n",
       "      <td>0.015944</td>\n",
       "      <td>0.000616</td>\n",
       "      <td>0.029162</td>\n",
       "      <td>...</td>\n",
       "      <td>0.074113</td>\n",
       "      <td>0.004381</td>\n",
       "      <td>0.118645</td>\n",
       "      <td>0.004128</td>\n",
       "      <td>0.108776</td>\n",
       "      <td>0.001359</td>\n",
       "      <td>0.153691</td>\n",
       "      <td>0.007196</td>\n",
       "      <td>0.096539</td>\n",
       "      <td>0.004812</td>\n",
       "    </tr>\n",
       "  </tbody>\n",
       "</table>\n",
       "<p>5 rows × 23 columns</p>\n",
       "</div>"
      ],
      "text/plain": [
       "   Unnamed: 0     ID     specz    u_flux     u_err    g_flux     g_err  \\\n",
       "0           0  23351  2.760316  0.014086  0.000955  0.027036  0.001719   \n",
       "1           1  20537  2.747530  0.037558  0.001232  0.053658  0.001746   \n",
       "2           2   2293  2.154657  0.122013  0.003937  0.111283  0.003596   \n",
       "3           3   5133  1.870031  0.001211  0.000133  0.002087  0.000096   \n",
       "4           4  25545  0.561281  0.002869  0.000171  0.005627  0.000319   \n",
       "\n",
       "     r_flux     r_err    i_flux  ...  JUV_flux   JUV_err  KUV_flux   KUV_err  \\\n",
       "0  0.038791  0.001342  0.038834  ...  0.046001  0.004392  0.047536  0.004399   \n",
       "1  0.067047  0.002196  0.067760  ...  0.082113  0.004346  0.070553  0.004394   \n",
       "2  0.119048  0.003853  0.127056  ...  0.099441  0.004249  0.131890  0.004045   \n",
       "3  0.003256  0.000279  0.005732  ...  0.010719  0.003264  0.019743  0.003876   \n",
       "4  0.015944  0.000616  0.029162  ...  0.074113  0.004381  0.118645  0.004128   \n",
       "\n",
       "     K_flux     K_err  ch1_flux   ch1_err  ch2_flux   ch2_err  \n",
       "0  0.037667  0.002026  0.066798  0.003613  0.097507  0.005337  \n",
       "1  0.076923  0.000982  0.087584  0.004526  0.131902  0.006359  \n",
       "2  0.141504  0.001254  0.152524  0.007173  0.225258  0.010495  \n",
       "3  0.021568  0.000898  0.039198  0.002013  0.055351  0.002972  \n",
       "4  0.108776  0.001359  0.153691  0.007196  0.096539  0.004812  \n",
       "\n",
       "[5 rows x 23 columns]"
      ]
     },
     "execution_count": 1,
     "metadata": {},
     "output_type": "execute_result"
    }
   ],
   "source": [
    "import pandas as pd\n",
    "import matplotlib.pyplot as plt\n",
    "import seaborn as sns\n",
    "import numpy as np\n",
    "from sklearn.model_selection import train_test_split\n",
    "from xgboost import XGBRegressor\n",
    "from sklearn.metrics import mean_absolute_error\n",
    "# Load the training set\n",
    "\n",
    "df = pd.read_csv('train.csv')\n",
    "\n",
    "df.head()"
   ]
  },
  {
   "cell_type": "code",
   "execution_count": 7,
   "metadata": {},
   "outputs": [
    {
     "data": {
      "text/plain": [
       "count    855.000000\n",
       "mean       1.120258\n",
       "std        0.717911\n",
       "min        0.028552\n",
       "25%        0.542063\n",
       "50%        0.986655\n",
       "75%        1.554531\n",
       "max        5.391201\n",
       "Name: specz, dtype: float64"
      ]
     },
     "execution_count": 7,
     "metadata": {},
     "output_type": "execute_result"
    }
   ],
   "source": [
    "# See target variable (specz) statistics:\n",
    "\n",
    "df.where(df.specz > 0, inplace=True)\n",
    "df.dropna(inplace=True)\n",
    "\n",
    "df.specz.describe()"
   ]
  },
  {
   "cell_type": "code",
   "execution_count": 8,
   "metadata": {},
   "outputs": [
    {
     "data": {
      "text/plain": [
       "<matplotlib.axes._subplots.AxesSubplot at 0x7fe8f33a1a90>"
      ]
     },
     "execution_count": 8,
     "metadata": {},
     "output_type": "execute_result"
    },
    {
     "data": {
      "image/png": "[encoded data removed]",
      "text/plain": [
       "<Figure size 432x288 with 1 Axes>"
      ]
     },
     "metadata": {
      "needs_background": "light"
     },
     "output_type": "display_data"
    }
   ],
   "source": [
    "sns.distplot(df['specz'])"
   ]
  },
  {
   "cell_type": "code",
   "execution_count": 444,
   "metadata": {},
   "outputs": [
    {
     "data": {
      "text/plain": [
       "(0, 1.3)"
      ]
     },
     "execution_count": 444,
     "metadata": {},
     "output_type": "execute_result"
    },
    {
     "data": {
      "image/png": "[encoded data removed]",
      "text/plain": [
       "<Figure size 432x288 with 1 Axes>"
      ]
     },
     "metadata": {
      "needs_background": "light"
     },
     "output_type": "display_data"
    }
   ],
   "source": [
    "# First thing we will do is clean up the data so we only train on objects with flags = 0, and zphot > 0 \n",
    "\n",
    "df.where((df['zphot'] > 0) & (df['flags'] == 0), inplace=True)\n",
    "df.dropna(inplace=True)\n",
    "\n",
    "\n",
    "# We now inspect how photometric redshifts from SED fitting compare to spectroscopic redshifts\n",
    "\n",
    "sns.regplot(x='specz', y='zphot', data=df)\n",
    "plt.xlim(0,1.3)\n",
    "plt.ylim(0,1.3)\n"
   ]
  },
  {
   "cell_type": "markdown",
   "metadata": {},
   "source": [
    "Looks okay for now. We will estimate the accuracy using the $\\sigma_{\\rm NMAD}$ metric from [Brammer et al. 2008](https://ui.adsabs.harvard.edu/abs/2008ApJ...686.1503B/abstract) below."
   ]
  },
  {
   "cell_type": "code",
   "execution_count": 445,
   "metadata": {},
   "outputs": [
    {
     "name": "stdout",
     "output_type": "stream",
     "text": [
      "0.03886758024830371\n"
     ]
    }
   ],
   "source": [
    "def sigma_nmad(delta_z, specz):\n",
    "    s = 1.48 * np.median(np.abs((delta_z - np.median(delta_z)) / \n",
    "                                (1. + np.median(specz) ) ))\n",
    "    return s\n",
    "\n",
    "delta_z = (df['zphot'] - df['specz'])\n",
    "\n",
    "print(sigma_nmad(delta_z, df.specz))\n"
   ]
  },
  {
   "cell_type": "markdown",
   "metadata": {},
   "source": [
    "Now we will create new features to train the model, such as magnitudes, color, etc."
   ]
  },
  {
   "cell_type": "code",
   "execution_count": 446,
   "metadata": {},
   "outputs": [
    {
     "name": "stderr",
     "output_type": "stream",
     "text": [
      "/Users/jonathanflorez/anaconda3/lib/python3.7/site-packages/pandas/core/series.py:853: RuntimeWarning: invalid value encountered in log10\n",
      "  result = getattr(ufunc, method)(*inputs, **kwargs)\n"
     ]
    },
    {
     "data": {
      "text/html": [
       "<div>\n",
       "<style scoped>\n",
       "    .dataframe tbody tr th:only-of-type {\n",
       "        vertical-align: middle;\n",
       "    }\n",
       "\n",
       "    .dataframe tbody tr th {\n",
       "        vertical-align: top;\n",
       "    }\n",
       "\n",
       "    .dataframe thead th {\n",
       "        text-align: right;\n",
       "    }\n",
       "</style>\n",
       "<table border=\"1\" class=\"dataframe\">\n",
       "  <thead>\n",
       "    <tr style=\"text-align: right;\">\n",
       "      <th></th>\n",
       "      <th>Unnamed: 0</th>\n",
       "      <th>ID</th>\n",
       "      <th>specz</th>\n",
       "      <th>zphot</th>\n",
       "      <th>u_flux</th>\n",
       "      <th>u_err</th>\n",
       "      <th>g_flux</th>\n",
       "      <th>g_err</th>\n",
       "      <th>r_flux</th>\n",
       "      <th>r_err</th>\n",
       "      <th>...</th>\n",
       "      <th>ch1_ch2</th>\n",
       "      <th>u_SNR</th>\n",
       "      <th>g_SNR</th>\n",
       "      <th>r_SNR</th>\n",
       "      <th>i_SNR</th>\n",
       "      <th>z_SNR</th>\n",
       "      <th>K_SNR</th>\n",
       "      <th>ch1_SNR</th>\n",
       "      <th>ch2_SNR</th>\n",
       "      <th>total_flux</th>\n",
       "    </tr>\n",
       "  </thead>\n",
       "  <tbody>\n",
       "    <tr>\n",
       "      <td>1</td>\n",
       "      <td>1.0</td>\n",
       "      <td>211.0</td>\n",
       "      <td>0.172607</td>\n",
       "      <td>0.130125</td>\n",
       "      <td>0.034651</td>\n",
       "      <td>0.001142</td>\n",
       "      <td>0.067499</td>\n",
       "      <td>0.002198</td>\n",
       "      <td>0.097253</td>\n",
       "      <td>0.003159</td>\n",
       "      <td>...</td>\n",
       "      <td>-0.317646</td>\n",
       "      <td>30.333418</td>\n",
       "      <td>30.712459</td>\n",
       "      <td>30.790534</td>\n",
       "      <td>30.763081</td>\n",
       "      <td>30.434176</td>\n",
       "      <td>99.076284</td>\n",
       "      <td>18.483823</td>\n",
       "      <td>17.186100</td>\n",
       "      <td>14.445809</td>\n",
       "    </tr>\n",
       "    <tr>\n",
       "      <td>2</td>\n",
       "      <td>2.0</td>\n",
       "      <td>242.0</td>\n",
       "      <td>0.079318</td>\n",
       "      <td>0.120774</td>\n",
       "      <td>0.116043</td>\n",
       "      <td>0.003775</td>\n",
       "      <td>0.284686</td>\n",
       "      <td>0.009201</td>\n",
       "      <td>0.422237</td>\n",
       "      <td>0.013636</td>\n",
       "      <td>...</td>\n",
       "      <td>-0.416089</td>\n",
       "      <td>30.743215</td>\n",
       "      <td>30.941438</td>\n",
       "      <td>30.965166</td>\n",
       "      <td>30.974332</td>\n",
       "      <td>30.937650</td>\n",
       "      <td>263.675627</td>\n",
       "      <td>20.889387</td>\n",
       "      <td>20.491019</td>\n",
       "      <td>15.070084</td>\n",
       "    </tr>\n",
       "    <tr>\n",
       "      <td>4</td>\n",
       "      <td>4.0</td>\n",
       "      <td>462.0</td>\n",
       "      <td>0.119607</td>\n",
       "      <td>0.103759</td>\n",
       "      <td>0.033206</td>\n",
       "      <td>0.001113</td>\n",
       "      <td>0.137714</td>\n",
       "      <td>0.004451</td>\n",
       "      <td>0.350813</td>\n",
       "      <td>0.011316</td>\n",
       "      <td>...</td>\n",
       "      <td>-0.325062</td>\n",
       "      <td>29.841182</td>\n",
       "      <td>30.942087</td>\n",
       "      <td>31.001149</td>\n",
       "      <td>31.007738</td>\n",
       "      <td>31.001541</td>\n",
       "      <td>754.447152</td>\n",
       "      <td>21.507651</td>\n",
       "      <td>21.412717</td>\n",
       "      <td>15.132726</td>\n",
       "    </tr>\n",
       "    <tr>\n",
       "      <td>5</td>\n",
       "      <td>5.0</td>\n",
       "      <td>647.0</td>\n",
       "      <td>0.644799</td>\n",
       "      <td>0.701364</td>\n",
       "      <td>0.001203</td>\n",
       "      <td>0.000110</td>\n",
       "      <td>0.003400</td>\n",
       "      <td>0.000175</td>\n",
       "      <td>0.014828</td>\n",
       "      <td>0.000509</td>\n",
       "      <td>...</td>\n",
       "      <td>-0.464690</td>\n",
       "      <td>10.896188</td>\n",
       "      <td>19.423791</td>\n",
       "      <td>29.121395</td>\n",
       "      <td>28.043192</td>\n",
       "      <td>28.361706</td>\n",
       "      <td>138.184377</td>\n",
       "      <td>20.026274</td>\n",
       "      <td>19.588607</td>\n",
       "      <td>14.205160</td>\n",
       "    </tr>\n",
       "    <tr>\n",
       "      <td>9</td>\n",
       "      <td>9.0</td>\n",
       "      <td>1780.0</td>\n",
       "      <td>0.459616</td>\n",
       "      <td>0.421326</td>\n",
       "      <td>0.003388</td>\n",
       "      <td>0.000401</td>\n",
       "      <td>0.016342</td>\n",
       "      <td>0.000860</td>\n",
       "      <td>0.078228</td>\n",
       "      <td>0.002650</td>\n",
       "      <td>...</td>\n",
       "      <td>-0.224277</td>\n",
       "      <td>8.448171</td>\n",
       "      <td>19.012940</td>\n",
       "      <td>29.520590</td>\n",
       "      <td>30.695950</td>\n",
       "      <td>30.477360</td>\n",
       "      <td>180.745523</td>\n",
       "      <td>20.651397</td>\n",
       "      <td>20.078604</td>\n",
       "      <td>14.502641</td>\n",
       "    </tr>\n",
       "    <tr>\n",
       "      <td>...</td>\n",
       "      <td>...</td>\n",
       "      <td>...</td>\n",
       "      <td>...</td>\n",
       "      <td>...</td>\n",
       "      <td>...</td>\n",
       "      <td>...</td>\n",
       "      <td>...</td>\n",
       "      <td>...</td>\n",
       "      <td>...</td>\n",
       "      <td>...</td>\n",
       "      <td>...</td>\n",
       "      <td>...</td>\n",
       "      <td>...</td>\n",
       "      <td>...</td>\n",
       "      <td>...</td>\n",
       "      <td>...</td>\n",
       "      <td>...</td>\n",
       "      <td>...</td>\n",
       "      <td>...</td>\n",
       "      <td>...</td>\n",
       "      <td>...</td>\n",
       "    </tr>\n",
       "    <tr>\n",
       "      <td>8308</td>\n",
       "      <td>8308.0</td>\n",
       "      <td>1241228.0</td>\n",
       "      <td>0.566096</td>\n",
       "      <td>0.783433</td>\n",
       "      <td>0.199379</td>\n",
       "      <td>0.006427</td>\n",
       "      <td>0.007839</td>\n",
       "      <td>0.001443</td>\n",
       "      <td>0.023677</td>\n",
       "      <td>0.001361</td>\n",
       "      <td>...</td>\n",
       "      <td>-0.502596</td>\n",
       "      <td>31.021035</td>\n",
       "      <td>5.431812</td>\n",
       "      <td>17.398926</td>\n",
       "      <td>19.684530</td>\n",
       "      <td>27.915912</td>\n",
       "      <td>49.610857</td>\n",
       "      <td>19.947306</td>\n",
       "      <td>19.259215</td>\n",
       "      <td>14.474764</td>\n",
       "    </tr>\n",
       "    <tr>\n",
       "      <td>8309</td>\n",
       "      <td>8309.0</td>\n",
       "      <td>1241421.0</td>\n",
       "      <td>0.081389</td>\n",
       "      <td>0.194602</td>\n",
       "      <td>-99.000000</td>\n",
       "      <td>-99.000000</td>\n",
       "      <td>0.106469</td>\n",
       "      <td>0.003492</td>\n",
       "      <td>0.173301</td>\n",
       "      <td>0.005652</td>\n",
       "      <td>...</td>\n",
       "      <td>-0.467969</td>\n",
       "      <td>1.000000</td>\n",
       "      <td>30.491821</td>\n",
       "      <td>30.663894</td>\n",
       "      <td>29.397021</td>\n",
       "      <td>30.587793</td>\n",
       "      <td>53.076575</td>\n",
       "      <td>19.696109</td>\n",
       "      <td>18.447478</td>\n",
       "      <td>14.636998</td>\n",
       "    </tr>\n",
       "    <tr>\n",
       "      <td>8315</td>\n",
       "      <td>8315.0</td>\n",
       "      <td>1243185.0</td>\n",
       "      <td>0.249715</td>\n",
       "      <td>0.243564</td>\n",
       "      <td>-99.000000</td>\n",
       "      <td>-99.000000</td>\n",
       "      <td>0.061946</td>\n",
       "      <td>0.002215</td>\n",
       "      <td>0.191074</td>\n",
       "      <td>0.006258</td>\n",
       "      <td>...</td>\n",
       "      <td>-0.177620</td>\n",
       "      <td>1.000000</td>\n",
       "      <td>27.965806</td>\n",
       "      <td>30.531243</td>\n",
       "      <td>30.310069</td>\n",
       "      <td>30.832854</td>\n",
       "      <td>159.903897</td>\n",
       "      <td>20.764594</td>\n",
       "      <td>20.531168</td>\n",
       "      <td>14.769719</td>\n",
       "    </tr>\n",
       "    <tr>\n",
       "      <td>8316</td>\n",
       "      <td>8316.0</td>\n",
       "      <td>1243836.0</td>\n",
       "      <td>0.059468</td>\n",
       "      <td>0.061734</td>\n",
       "      <td>-99.000000</td>\n",
       "      <td>-99.000000</td>\n",
       "      <td>0.081592</td>\n",
       "      <td>0.002679</td>\n",
       "      <td>0.060749</td>\n",
       "      <td>0.002112</td>\n",
       "      <td>...</td>\n",
       "      <td>0.188869</td>\n",
       "      <td>1.000000</td>\n",
       "      <td>30.454139</td>\n",
       "      <td>28.769772</td>\n",
       "      <td>24.959732</td>\n",
       "      <td>28.071606</td>\n",
       "      <td>23.142278</td>\n",
       "      <td>14.354052</td>\n",
       "      <td>14.421913</td>\n",
       "      <td>14.148164</td>\n",
       "    </tr>\n",
       "    <tr>\n",
       "      <td>8318</td>\n",
       "      <td>8318.0</td>\n",
       "      <td>1245109.0</td>\n",
       "      <td>0.175078</td>\n",
       "      <td>0.817047</td>\n",
       "      <td>0.028275</td>\n",
       "      <td>0.000911</td>\n",
       "      <td>0.006717</td>\n",
       "      <td>0.000284</td>\n",
       "      <td>0.009674</td>\n",
       "      <td>0.000616</td>\n",
       "      <td>...</td>\n",
       "      <td>0.211256</td>\n",
       "      <td>31.021036</td>\n",
       "      <td>23.619859</td>\n",
       "      <td>15.709149</td>\n",
       "      <td>31.021036</td>\n",
       "      <td>18.027026</td>\n",
       "      <td>15.846617</td>\n",
       "      <td>8.010471</td>\n",
       "      <td>8.402404</td>\n",
       "      <td>13.772003</td>\n",
       "    </tr>\n",
       "  </tbody>\n",
       "</table>\n",
       "<p>3653 rows × 50 columns</p>\n",
       "</div>"
      ],
      "text/plain": [
       "      Unnamed: 0         ID     specz     zphot     u_flux      u_err  \\\n",
       "1            1.0      211.0  0.172607  0.130125   0.034651   0.001142   \n",
       "2            2.0      242.0  0.079318  0.120774   0.116043   0.003775   \n",
       "4            4.0      462.0  0.119607  0.103759   0.033206   0.001113   \n",
       "5            5.0      647.0  0.644799  0.701364   0.001203   0.000110   \n",
       "9            9.0     1780.0  0.459616  0.421326   0.003388   0.000401   \n",
       "...          ...        ...       ...       ...        ...        ...   \n",
       "8308      8308.0  1241228.0  0.566096  0.783433   0.199379   0.006427   \n",
       "8309      8309.0  1241421.0  0.081389  0.194602 -99.000000 -99.000000   \n",
       "8315      8315.0  1243185.0  0.249715  0.243564 -99.000000 -99.000000   \n",
       "8316      8316.0  1243836.0  0.059468  0.061734 -99.000000 -99.000000   \n",
       "8318      8318.0  1245109.0  0.175078  0.817047   0.028275   0.000911   \n",
       "\n",
       "        g_flux     g_err    r_flux     r_err  ...   ch1_ch2      u_SNR  \\\n",
       "1     0.067499  0.002198  0.097253  0.003159  ... -0.317646  30.333418   \n",
       "2     0.284686  0.009201  0.422237  0.013636  ... -0.416089  30.743215   \n",
       "4     0.137714  0.004451  0.350813  0.011316  ... -0.325062  29.841182   \n",
       "5     0.003400  0.000175  0.014828  0.000509  ... -0.464690  10.896188   \n",
       "9     0.016342  0.000860  0.078228  0.002650  ... -0.224277   8.448171   \n",
       "...        ...       ...       ...       ...  ...       ...        ...   \n",
       "8308  0.007839  0.001443  0.023677  0.001361  ... -0.502596  31.021035   \n",
       "8309  0.106469  0.003492  0.173301  0.005652  ... -0.467969   1.000000   \n",
       "8315  0.061946  0.002215  0.191074  0.006258  ... -0.177620   1.000000   \n",
       "8316  0.081592  0.002679  0.060749  0.002112  ...  0.188869   1.000000   \n",
       "8318  0.006717  0.000284  0.009674  0.000616  ...  0.211256  31.021036   \n",
       "\n",
       "          g_SNR      r_SNR      i_SNR      z_SNR       K_SNR    ch1_SNR  \\\n",
       "1     30.712459  30.790534  30.763081  30.434176   99.076284  18.483823   \n",
       "2     30.941438  30.965166  30.974332  30.937650  263.675627  20.889387   \n",
       "4     30.942087  31.001149  31.007738  31.001541  754.447152  21.507651   \n",
       "5     19.423791  29.121395  28.043192  28.361706  138.184377  20.026274   \n",
       "9     19.012940  29.520590  30.695950  30.477360  180.745523  20.651397   \n",
       "...         ...        ...        ...        ...         ...        ...   \n",
       "8308   5.431812  17.398926  19.684530  27.915912   49.610857  19.947306   \n",
       "8309  30.491821  30.663894  29.397021  30.587793   53.076575  19.696109   \n",
       "8315  27.965806  30.531243  30.310069  30.832854  159.903897  20.764594   \n",
       "8316  30.454139  28.769772  24.959732  28.071606   23.142278  14.354052   \n",
       "8318  23.619859  15.709149  31.021036  18.027026   15.846617   8.010471   \n",
       "\n",
       "        ch2_SNR  total_flux  \n",
       "1     17.186100   14.445809  \n",
       "2     20.491019   15.070084  \n",
       "4     21.412717   15.132726  \n",
       "5     19.588607   14.205160  \n",
       "9     20.078604   14.502641  \n",
       "...         ...         ...  \n",
       "8308  19.259215   14.474764  \n",
       "8309  18.447478   14.636998  \n",
       "8315  20.531168   14.769719  \n",
       "8316  14.421913   14.148164  \n",
       "8318   8.402404   13.772003  \n",
       "\n",
       "[3653 rows x 50 columns]"
      ]
     },
     "execution_count": 446,
     "metadata": {},
     "output_type": "execute_result"
    }
   ],
   "source": [
    "# Convert all fluxes to magnitudes, make color combinations which reveal something about shape of spectra\n",
    "\n",
    "def flux_to_mag(flux):\n",
    "    mag = -2.5 * np.log10(flux) + 16.4\n",
    "    return mag\n",
    "\n",
    "df['u_mag'] = flux_to_mag(df['u_flux'])\n",
    "df['g_mag'] = flux_to_mag(df['g_flux'])\n",
    "df['r_mag'] = flux_to_mag(df['r_flux'])\n",
    "df['i_mag'] = flux_to_mag(df['i_flux'])\n",
    "df['z_mag'] = flux_to_mag(df['z_flux'])\n",
    "df['K_mag'] = flux_to_mag(df['K_flux'])\n",
    "df['ch1_mag'] = flux_to_mag(df['ch1_flux'])\n",
    "df['ch2_mag'] = flux_to_mag(df['ch2_flux'])\n",
    "\n",
    "# Make several different color combinations\n",
    "\n",
    "df['u_r'] = df['u_mag'] - df['r_mag']\n",
    "df['g_i'] = df['g_mag'] - df['i_mag']\n",
    "df['g_z'] = df['g_mag'] - df['z_mag']\n",
    "df['g_K'] = df['g_mag'] - df['K_mag']\n",
    "df['r_i'] = df['r_mag'] - df['i_mag']\n",
    "df['r_K'] = df['r_mag'] - df['K_mag']\n",
    "df['ch1_ch2'] = df['ch1_mag'] - df['ch2_mag']\n",
    "\n",
    "# Define Signal-to-noise ratios\n",
    "\n",
    "df['u_SNR'] = df['u_flux'] / df['u_err']\n",
    "df['g_SNR'] = df['g_flux'] / df['g_err']\n",
    "df['r_SNR'] = df['r_flux'] / df['r_err']\n",
    "df['i_SNR'] = df['i_flux'] / df['i_err']\n",
    "df['z_SNR'] = df['z_flux'] / df['z_err']\n",
    "df['K_SNR'] = df['K_flux'] / df['K_err']\n",
    "df['ch1_SNR'] = df['ch1_flux'] / df['ch1_err']\n",
    "df['ch2_SNR'] = df['ch2_flux'] / df['ch2_err']\n",
    "\n",
    "# Calculate total flux from new dataframe:\n",
    "\n",
    "def ret_zero(flux):\n",
    "    new_flux = flux.where(flux != -99, 0)\n",
    "    return new_flux\n",
    "\n",
    "wavelengths = [0.38566, 0.482, 0.6423, 0.78067, 0.91585, 1.25, 2.15, 2.17, 3.5569, 4.5]\n",
    "\n",
    "c = 3.00e8\n",
    "\n",
    "freq = [c / (wavelengths[x] * 1e-6) for x in range(len(wavelengths))]\n",
    "\n",
    "df['total_flux'] = np.log10(ret_zero(df.u_flux) * freq[0] + ret_zero(df.g_flux) * freq[1] + ret_zero(df.r_flux) * freq[2] + \\\n",
    "                   ret_zero(df.i_flux) * freq[3] + ret_zero(df.z_flux) * freq[4] + ret_zero(df.K_flux) * freq[5] + \\\n",
    "                   ret_zero(df.ch1_flux) * freq[6] + ret_zero(df.ch2_flux) * freq[7])\n",
    "\n",
    "df.fillna(0)"
   ]
  },
  {
   "cell_type": "code",
   "execution_count": 447,
   "metadata": {},
   "outputs": [],
   "source": [
    "# Select features\n",
    "\n",
    "features = ['u_mag', 'g_mag', 'r_mag', 'i_mag', 'z_mag', 'K_mag', 'ch1_mag', 'ch2_mag', \n",
    "            'u_SNR', 'g_SNR', 'r_SNR', 'i_SNR', 'z_SNR', 'K_SNR', 'ch1_SNR', 'ch2_SNR',\n",
    "            'u_r', 'g_i', 'g_z', 'g_K', 'r_i', 'r_K', 'ch1_ch2', 'total_flux']\n",
    "\n",
    "# Make training and validation sets\n",
    "\n",
    "X = df[features]\n",
    "y = df.specz\n",
    "\n",
    "X_train, X_val, y_train, y_val = train_test_split(X, y, test_size=0.2,random_state=0)\n",
    "ind = y_val.index.values"
   ]
  },
  {
   "cell_type": "code",
   "execution_count": 448,
   "metadata": {},
   "outputs": [
    {
     "data": {
      "text/plain": [
       "XGBRegressor(base_score=0.5, booster='gbtree', colsample_bylevel=1,\n",
       "             colsample_bynode=1, colsample_bytree=1, enable_categorical=False,\n",
       "             gamma=0, gpu_id=-1, importance_type=None,\n",
       "             interaction_constraints='', learning_rate=0.05, max_delta_step=0,\n",
       "             max_depth=6, min_child_weight=1, missing=nan,\n",
       "             monotone_constraints='()', n_estimators=500, n_jobs=4,\n",
       "             num_parallel_tree=1, objective='reg:squarederror',\n",
       "             predictor='auto', random_state=0, reg_alpha=0, reg_lambda=1,\n",
       "             scale_pos_weight=1, subsample=1, tree_method='exact',\n",
       "             validate_parameters=1, verbosity=None)"
      ]
     },
     "execution_count": 448,
     "metadata": {},
     "output_type": "execute_result"
    }
   ],
   "source": [
    "model = XGBRegressor(n_estimators=500,learning_rate=0.05)\n",
    "model.fit(X_train, y_train)"
   ]
  },
  {
   "cell_type": "code",
   "execution_count": 449,
   "metadata": {},
   "outputs": [
    {
     "name": "stdout",
     "output_type": "stream",
     "text": [
      "Mean Absolute Error from ML: 0.037576607415987354\n",
      "Mean Absolute Error from SED fitting: 0.08345727902986856\n"
     ]
    }
   ],
   "source": [
    "ML_z = model.predict(X_val)\n",
    "print(\"Mean Absolute Error from ML: \" + str(mean_absolute_error(ML_z, y_val)))\n",
    "print(\"Mean Absolute Error from SED fitting: \" + str(mean_absolute_error(df.zphot[ind], y_val)))"
   ]
  },
  {
   "cell_type": "code",
   "execution_count": 450,
   "metadata": {},
   "outputs": [
    {
     "data": {
      "text/plain": [
       "(0, 1.0)"
      ]
     },
     "execution_count": 450,
     "metadata": {},
     "output_type": "execute_result"
    },
    {
     "data": {
      "image/png": "[encoded data removed]",
      "text/plain": [
       "<Figure size 432x288 with 1 Axes>"
      ]
     },
     "metadata": {
      "needs_background": "light"
     },
     "output_type": "display_data"
    }
   ],
   "source": [
    "sns.regplot(x=y_val, y=ML_z)\n",
    "plt.xlim(0,1.0)\n",
    "plt.ylim(0,1.0)"
   ]
  },
  {
   "cell_type": "code",
   "execution_count": 451,
   "metadata": {},
   "outputs": [
    {
     "name": "stdout",
     "output_type": "stream",
     "text": [
      "0.023837807872196682\n"
     ]
    }
   ],
   "source": [
    "delta_z = (ML_z - y_val)\n",
    "\n",
    "print(sigma_nmad(delta_z, y_val))"
   ]
  },
  {
   "cell_type": "code",
   "execution_count": 452,
   "metadata": {},
   "outputs": [
    {
     "data": {
      "text/plain": [
       "(0, 1.0)"
      ]
     },
     "execution_count": 452,
     "metadata": {},
     "output_type": "execute_result"
    },
    {
     "data": {
      "image/png": "[encoded data removed]",
      "text/plain": [
       "<Figure size 432x288 with 1 Axes>"
      ]
     },
     "metadata": {
      "needs_background": "light"
     },
     "output_type": "display_data"
    }
   ],
   "source": [
    "sns.regplot(x=y_val, y=df.zphot[ind])\n",
    "plt.xlim(0,1.0)\n",
    "plt.ylim(0,1.0)"
   ]
  },
  {
   "cell_type": "code",
   "execution_count": 453,
   "metadata": {},
   "outputs": [
    {
     "name": "stdout",
     "output_type": "stream",
     "text": [
      "0.041071931513985714\n"
     ]
    }
   ],
   "source": [
    "delta_z = (df.zphot[ind] - y_val)\n",
    "\n",
    "print(sigma_nmad(delta_z, y_val))"
   ]
  },
  {
   "cell_type": "code",
   "execution_count": null,
   "metadata": {},
   "outputs": [],
   "source": []
  }
 ],
 "metadata": {
  "kernelspec": {
   "display_name": "Python 3",
   "language": "python",
   "name": "python3"
  },
  "language_info": {
   "codemirror_mode": {
    "name": "ipython",
    "version": 3
   },
   "file_extension": ".py",
   "mimetype": "text/x-python",
   "name": "python",
   "nbconvert_exporter": "python",
   "pygments_lexer": "ipython3",
   "version": "3.7.4"
  }
 },
 "nbformat": 4,
 "nbformat_minor": 2
}
